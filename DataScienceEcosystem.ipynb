{
  "nbformat": 4,
  "nbformat_minor": 0,
  "metadata": {
    "colab": {
      "provenance": [],
      "authorship_tag": "ABX9TyNLfSIOmBfPyPrsUtohs/wN",
      "include_colab_link": true
    },
    "kernelspec": {
      "name": "python3",
      "display_name": "Python 3"
    },
    "language_info": {
      "name": "python"
    }
  },
  "cells": [
    {
      "cell_type": "markdown",
      "metadata": {
        "id": "view-in-github",
        "colab_type": "text"
      },
      "source": [
        "<a href=\"https://colab.research.google.com/github/Munisi01/Explore/blob/main/DataScienceEcosystem.ipynb\" target=\"_parent\"><img src=\"https://colab.research.google.com/assets/colab-badge.svg\" alt=\"Open In Colab\"/></a>"
      ]
    },
    {
      "cell_type": "markdown",
      "source": [
        "# Data Science Tools and Ecosystem"
      ],
      "metadata": {
        "id": "q-xw3A7NA1or"
      }
    },
    {
      "cell_type": "markdown",
      "source": [
        "# Intoduction"
      ],
      "metadata": {
        "id": "a-R7wkv-I1Ij"
      }
    },
    {
      "cell_type": "markdown",
      "source": [
        "In  this note book, Data Science Tools and Ecosystem are summarised."
      ],
      "metadata": {
        "id": "O77uWLEpBpPT"
      }
    },
    {
      "cell_type": "markdown",
      "source": [
        "# **The objectives of the notebook**"
      ],
      "metadata": {
        "id": "UfzP8jeOI8C_"
      }
    },
    {
      "cell_type": "markdown",
      "source": [
        "the following are the items covered in the notebook.\n",
        "\n",
        "\n",
        "1.   Languages in data scinece\n",
        "2.   Libraries\n",
        "3.   Tools in data science\n",
        "4.    Arithmatics.\n",
        "\n"
      ],
      "metadata": {
        "id": "rhRU3GtYJGjk"
      }
    },
    {
      "cell_type": "markdown",
      "source": [
        "# Data science languages"
      ],
      "metadata": {
        "id": "LpCZZoISDH_x"
      }
    },
    {
      "cell_type": "markdown",
      "source": [
        "Some of the most popularly used data sciience languages include;\n",
        "\n",
        "\n",
        "1.   Python\n",
        "2.   Java\n",
        "3.   R\n",
        "\n"
      ],
      "metadata": {
        "id": "bjdI0ChADNnL"
      }
    },
    {
      "cell_type": "markdown",
      "source": [
        "# Table of data science tools"
      ],
      "metadata": {
        "id": "lXpDrAQ-EfrY"
      }
    },
    {
      "cell_type": "markdown",
      "source": [
        "This table highlights the tools used in data science"
      ],
      "metadata": {
        "id": "VzUjOIj-EoKJ"
      }
    },
    {
      "cell_type": "markdown",
      "source": [
        "\n",
        " | Data Science Tools |\n",
        " | --- |\n",
        " | Jupyter Notebook |\n",
        " | RStudio |\n",
        " | VS Code |\n"
      ],
      "metadata": {
        "id": "F6aCNuD4FrnQ"
      }
    },
    {
      "cell_type": "markdown",
      "source": [
        "# Intoduction to arithmetics"
      ],
      "metadata": {
        "id": "uWcwOLHEGyM-"
      }
    },
    {
      "cell_type": "markdown",
      "source": [
        "We will proceed to explore a few examples of evaluating arithmatics in data python"
      ],
      "metadata": {
        "id": "8-ojHIY9G4hE"
      }
    },
    {
      "cell_type": "markdown",
      "source": [
        "# Addition and multiplication"
      ],
      "metadata": {
        "id": "EGzwII2NHZv-"
      }
    },
    {
      "cell_type": "markdown",
      "source": [
        "This code multiplies 3 by 4 then add 5"
      ],
      "metadata": {
        "id": "bSHF-Lw1HfCL"
      }
    },
    {
      "cell_type": "code",
      "source": [
        "# prompt: python code to multiply 3 by 4 and then add 5\n",
        "\n",
        "result = (3 * 4) + 5\n",
        "result"
      ],
      "metadata": {
        "id": "XMD5FOjbHkbE"
      },
      "execution_count": null,
      "outputs": []
    },
    {
      "cell_type": "markdown",
      "source": [
        "# Converting min to hours"
      ],
      "metadata": {
        "id": "_81Xwk9QIC7J"
      }
    },
    {
      "cell_type": "markdown",
      "source": [
        "This code converts 200min to hours"
      ],
      "metadata": {
        "id": "OgfGL3-NIIDK"
      }
    },
    {
      "cell_type": "code",
      "source": [
        "# prompt: python code to convert 200min to hours\n",
        "\n",
        "minutes = 200\n",
        "hours = minutes / 60\n",
        "print(f\"{minutes} minutes is equal to {hours} hours\")"
      ],
      "metadata": {
        "id": "rSu3htJKIL_M"
      },
      "execution_count": null,
      "outputs": []
    },
    {
      "cell_type": "markdown",
      "source": [
        "# Author"
      ],
      "metadata": {
        "id": "CnvNGPboJtmP"
      }
    },
    {
      "cell_type": "markdown",
      "source": [
        "Emmanuel Munisi"
      ],
      "metadata": {
        "id": "juYng5V3Jzj7"
      }
    }
  ]
}